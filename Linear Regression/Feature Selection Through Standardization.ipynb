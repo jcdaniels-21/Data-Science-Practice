{
 "cells": [
  {
   "cell_type": "markdown",
   "metadata": {},
   "source": [
    "## Importing Libraries"
   ]
  },
  {
   "cell_type": "code",
   "execution_count": 1,
   "metadata": {},
   "outputs": [],
   "source": [
    "import numpy as np\n",
    "import pandas as pd\n",
    "import matplotlib.pyplot as plt\n",
    "import seaborn as sns\n",
    "sns.set()\n",
    "\n",
    "from sklearn.linear_model import LinearRegression"
   ]
  },
  {
   "cell_type": "code",
   "execution_count": 2,
   "metadata": {},
   "outputs": [],
   "source": [
    "data = pd.read_csv('C:/Users/jdblu/Documents/Data Science Practice/Linear Regression/MultLinearRegressionData.csv')"
   ]
  },
  {
   "cell_type": "code",
   "execution_count": 3,
   "metadata": {},
   "outputs": [
    {
     "data": {
      "text/html": [
       "<div>\n",
       "<style scoped>\n",
       "    .dataframe tbody tr th:only-of-type {\n",
       "        vertical-align: middle;\n",
       "    }\n",
       "\n",
       "    .dataframe tbody tr th {\n",
       "        vertical-align: top;\n",
       "    }\n",
       "\n",
       "    .dataframe thead th {\n",
       "        text-align: right;\n",
       "    }\n",
       "</style>\n",
       "<table border=\"1\" class=\"dataframe\">\n",
       "  <thead>\n",
       "    <tr style=\"text-align: right;\">\n",
       "      <th></th>\n",
       "      <th>SAT</th>\n",
       "      <th>GPA</th>\n",
       "      <th>Attendance</th>\n",
       "    </tr>\n",
       "  </thead>\n",
       "  <tbody>\n",
       "    <tr>\n",
       "      <td>0</td>\n",
       "      <td>1714</td>\n",
       "      <td>2.40</td>\n",
       "      <td>No</td>\n",
       "    </tr>\n",
       "    <tr>\n",
       "      <td>1</td>\n",
       "      <td>1664</td>\n",
       "      <td>2.52</td>\n",
       "      <td>No</td>\n",
       "    </tr>\n",
       "    <tr>\n",
       "      <td>2</td>\n",
       "      <td>1760</td>\n",
       "      <td>2.54</td>\n",
       "      <td>No</td>\n",
       "    </tr>\n",
       "    <tr>\n",
       "      <td>3</td>\n",
       "      <td>1685</td>\n",
       "      <td>2.74</td>\n",
       "      <td>No</td>\n",
       "    </tr>\n",
       "    <tr>\n",
       "      <td>4</td>\n",
       "      <td>1693</td>\n",
       "      <td>2.83</td>\n",
       "      <td>No</td>\n",
       "    </tr>\n",
       "  </tbody>\n",
       "</table>\n",
       "</div>"
      ],
      "text/plain": [
       "    SAT   GPA Attendance\n",
       "0  1714  2.40         No\n",
       "1  1664  2.52         No\n",
       "2  1760  2.54         No\n",
       "3  1685  2.74         No\n",
       "4  1693  2.83         No"
      ]
     },
     "execution_count": 3,
     "metadata": {},
     "output_type": "execute_result"
    }
   ],
   "source": [
    "data.head()"
   ]
  },
  {
   "cell_type": "markdown",
   "metadata": {},
   "source": [
    "## Creating Regression Model"
   ]
  },
  {
   "cell_type": "code",
   "execution_count": 4,
   "metadata": {},
   "outputs": [],
   "source": [
    "factored_data = data.copy()"
   ]
  },
  {
   "cell_type": "code",
   "execution_count": 5,
   "metadata": {},
   "outputs": [],
   "source": [
    "factored_data['Attendance'] = data['Attendance'].map({'Yes':1, 'No':0})"
   ]
  },
  {
   "cell_type": "markdown",
   "metadata": {},
   "source": [
    "### Standardization"
   ]
  },
  {
   "cell_type": "code",
   "execution_count": 7,
   "metadata": {},
   "outputs": [],
   "source": [
    "from sklearn.preprocessing import StandardScaler"
   ]
  },
  {
   "cell_type": "code",
   "execution_count": 10,
   "metadata": {},
   "outputs": [],
   "source": [
    "y = factored_data['GPA']\n",
    "x = factored_data[['SAT', 'Attendance']]\n",
    "\n",
    "scaler = StandardScaler()"
   ]
  },
  {
   "cell_type": "code",
   "execution_count": 11,
   "metadata": {},
   "outputs": [
    {
     "data": {
      "text/plain": [
       "StandardScaler(copy=True, with_mean=True, with_std=True)"
      ]
     },
     "execution_count": 11,
     "metadata": {},
     "output_type": "execute_result"
    }
   ],
   "source": [
    "scaler.fit(x)"
   ]
  },
  {
   "cell_type": "code",
   "execution_count": 12,
   "metadata": {},
   "outputs": [],
   "source": [
    "x_scaled = scaler.transform(x)"
   ]
  },
  {
   "cell_type": "code",
   "execution_count": 13,
   "metadata": {},
   "outputs": [
    {
     "data": {
      "text/plain": [
       "array([[-1.26338288, -0.93094934],\n",
       "       [-1.74458431, -0.93094934],\n",
       "       [-0.82067757, -0.93094934],\n",
       "       [-1.54247971, -0.93094934],\n",
       "       [-1.46548748, -0.93094934],\n",
       "       [-1.68684014, -0.93094934],\n",
       "       [-0.78218146, -0.93094934],\n",
       "       [-0.78218146, -0.93094934],\n",
       "       [-0.51270866, -0.93094934],\n",
       "       [ 0.04548499, -0.93094934],\n",
       "       [-1.06127829, -0.93094934],\n",
       "       [-0.67631715, -0.93094934],\n",
       "       [-1.06127829, -0.93094934],\n",
       "       [-1.28263094, -0.93094934],\n",
       "       [-0.6955652 , -0.93094934],\n",
       "       [ 0.25721362,  1.07417231],\n",
       "       [-0.86879772, -0.93094934],\n",
       "       [-1.64834403,  1.07417231],\n",
       "       [-0.03150724, -0.93094934],\n",
       "       [-0.57045283,  1.07417231],\n",
       "       [-0.81105355, -0.93094934],\n",
       "       [-1.18639066, -0.93094934],\n",
       "       [-1.75420834, -0.93094934],\n",
       "       [-1.52323165, -0.93094934],\n",
       "       [ 1.23886453, -0.93094934],\n",
       "       [-0.18549169, -0.93094934],\n",
       "       [-0.5608288 , -0.93094934],\n",
       "       [-0.23361183, -0.93094934],\n",
       "       [ 1.68156984, -0.93094934],\n",
       "       [-0.4934606 , -0.93094934],\n",
       "       [-0.73406132, -0.93094934],\n",
       "       [ 0.85390339,  1.07417231],\n",
       "       [-0.67631715, -0.93094934],\n",
       "       [ 0.09360513,  1.07417231],\n",
       "       [ 0.33420585, -0.93094934],\n",
       "       [ 0.03586096, -0.93094934],\n",
       "       [-0.35872421,  1.07417231],\n",
       "       [ 1.04638396,  1.07417231],\n",
       "       [-0.65706909,  1.07417231],\n",
       "       [-0.13737155, -0.93094934],\n",
       "       [ 0.18984542, -0.93094934],\n",
       "       [ 0.04548499, -0.93094934],\n",
       "       [ 1.1618723 , -0.93094934],\n",
       "       [-1.37887123,  1.07417231],\n",
       "       [ 1.39284898,  1.07417231],\n",
       "       [ 0.76728713,  1.07417231],\n",
       "       [-0.20473975,  1.07417231],\n",
       "       [ 1.06563201, -0.93094934],\n",
       "       [ 0.11285319, -0.93094934],\n",
       "       [ 1.28698467, -0.93094934],\n",
       "       [-0.41646838,  1.07417231],\n",
       "       [ 0.09360513,  1.07417231],\n",
       "       [ 0.59405462, -0.93094934],\n",
       "       [-2.03330517,  1.07417231],\n",
       "       [ 0.32458182,  1.07417231],\n",
       "       [ 0.40157405,  1.07417231],\n",
       "       [-1.10939843,  1.07417231],\n",
       "       [ 1.03675993, -0.93094934],\n",
       "       [-0.61857297,  1.07417231],\n",
       "       [ 0.44007016,  1.07417231],\n",
       "       [ 1.14262424, -0.93094934],\n",
       "       [-0.35872421, -0.93094934],\n",
       "       [ 0.45931822,  1.07417231],\n",
       "       [ 1.88367444, -0.93094934],\n",
       "       [ 0.45931822,  1.07417231],\n",
       "       [-0.12774752,  1.07417231],\n",
       "       [ 0.04548499,  1.07417231],\n",
       "       [ 0.85390339,  1.07417231],\n",
       "       [ 0.15134931,  1.07417231],\n",
       "       [ 0.8250313 ,  1.07417231],\n",
       "       [ 0.84427936,  1.07417231],\n",
       "       [-0.64744506,  1.07417231],\n",
       "       [ 1.24848856,  1.07417231],\n",
       "       [ 0.85390339,  1.07417231],\n",
       "       [ 1.69119387,  1.07417231],\n",
       "       [ 1.6334497 ,  1.07417231],\n",
       "       [ 1.46021718,  1.07417231],\n",
       "       [ 1.68156984, -0.93094934],\n",
       "       [-0.02188321,  1.07417231],\n",
       "       [ 0.87315144,  1.07417231],\n",
       "       [-0.33947615,  1.07417231],\n",
       "       [ 1.3639769 , -0.93094934],\n",
       "       [ 1.12337618,  1.07417231],\n",
       "       [ 1.97029069,  1.07417231]])"
      ]
     },
     "execution_count": 13,
     "metadata": {},
     "output_type": "execute_result"
    }
   ],
   "source": [
    "x_scaled"
   ]
  },
  {
   "cell_type": "markdown",
   "metadata": {},
   "source": [
    "### Regression with Scaled Features"
   ]
  },
  {
   "cell_type": "code",
   "execution_count": 14,
   "metadata": {},
   "outputs": [
    {
     "data": {
      "text/plain": [
       "LinearRegression(copy_X=True, fit_intercept=True, n_jobs=None, normalize=False)"
      ]
     },
     "execution_count": 14,
     "metadata": {},
     "output_type": "execute_result"
    }
   ],
   "source": [
    "reg = LinearRegression()\n",
    "reg.fit(x_scaled,y)"
   ]
  },
  {
   "cell_type": "code",
   "execution_count": 15,
   "metadata": {},
   "outputs": [
    {
     "data": {
      "text/plain": [
       "array([0.14544861, 0.1110377 ])"
      ]
     },
     "execution_count": 15,
     "metadata": {},
     "output_type": "execute_result"
    }
   ],
   "source": [
    "reg.coef_"
   ]
  },
  {
   "cell_type": "code",
   "execution_count": 16,
   "metadata": {},
   "outputs": [
    {
     "data": {
      "text/plain": [
       "3.330238095238095"
      ]
     },
     "execution_count": 16,
     "metadata": {},
     "output_type": "execute_result"
    }
   ],
   "source": [
    "reg.intercept_"
   ]
  },
  {
   "cell_type": "markdown",
   "metadata": {},
   "source": [
    "### Creating Summary Table"
   ]
  },
  {
   "cell_type": "code",
   "execution_count": 17,
   "metadata": {},
   "outputs": [],
   "source": [
    "reg_summary = pd.DataFrame([['Bias'],['SAT'],['Attendance']], columns=['Features'])\n",
    "reg_summary['Weights'] = reg.intercept_, reg.coef_[0], reg.coef_[1]"
   ]
  },
  {
   "cell_type": "code",
   "execution_count": 18,
   "metadata": {},
   "outputs": [
    {
     "data": {
      "text/html": [
       "<div>\n",
       "<style scoped>\n",
       "    .dataframe tbody tr th:only-of-type {\n",
       "        vertical-align: middle;\n",
       "    }\n",
       "\n",
       "    .dataframe tbody tr th {\n",
       "        vertical-align: top;\n",
       "    }\n",
       "\n",
       "    .dataframe thead th {\n",
       "        text-align: right;\n",
       "    }\n",
       "</style>\n",
       "<table border=\"1\" class=\"dataframe\">\n",
       "  <thead>\n",
       "    <tr style=\"text-align: right;\">\n",
       "      <th></th>\n",
       "      <th>Features</th>\n",
       "      <th>Weights</th>\n",
       "    </tr>\n",
       "  </thead>\n",
       "  <tbody>\n",
       "    <tr>\n",
       "      <td>0</td>\n",
       "      <td>Bias</td>\n",
       "      <td>3.330238</td>\n",
       "    </tr>\n",
       "    <tr>\n",
       "      <td>1</td>\n",
       "      <td>SAT</td>\n",
       "      <td>0.145449</td>\n",
       "    </tr>\n",
       "    <tr>\n",
       "      <td>2</td>\n",
       "      <td>Attendance</td>\n",
       "      <td>0.111038</td>\n",
       "    </tr>\n",
       "  </tbody>\n",
       "</table>\n",
       "</div>"
      ],
      "text/plain": [
       "     Features   Weights\n",
       "0        Bias  3.330238\n",
       "1         SAT  0.145449\n",
       "2  Attendance  0.111038"
      ]
     },
     "execution_count": 18,
     "metadata": {},
     "output_type": "execute_result"
    }
   ],
   "source": [
    "reg_summary"
   ]
  },
  {
   "cell_type": "markdown",
   "metadata": {},
   "source": [
    "### Marking predictions with the standardized coefficients (weights)"
   ]
  },
  {
   "cell_type": "code",
   "execution_count": 19,
   "metadata": {},
   "outputs": [],
   "source": [
    "new_data = pd.DataFrame(data=[[1700,1],[1800,0]], columns=['SAT','Attendance'])"
   ]
  },
  {
   "cell_type": "code",
   "execution_count": 20,
   "metadata": {},
   "outputs": [
    {
     "data": {
      "text/html": [
       "<div>\n",
       "<style scoped>\n",
       "    .dataframe tbody tr th:only-of-type {\n",
       "        vertical-align: middle;\n",
       "    }\n",
       "\n",
       "    .dataframe tbody tr th {\n",
       "        vertical-align: top;\n",
       "    }\n",
       "\n",
       "    .dataframe thead th {\n",
       "        text-align: right;\n",
       "    }\n",
       "</style>\n",
       "<table border=\"1\" class=\"dataframe\">\n",
       "  <thead>\n",
       "    <tr style=\"text-align: right;\">\n",
       "      <th></th>\n",
       "      <th>SAT</th>\n",
       "      <th>Attendance</th>\n",
       "    </tr>\n",
       "  </thead>\n",
       "  <tbody>\n",
       "    <tr>\n",
       "      <td>0</td>\n",
       "      <td>1700</td>\n",
       "      <td>1</td>\n",
       "    </tr>\n",
       "    <tr>\n",
       "      <td>1</td>\n",
       "      <td>1800</td>\n",
       "      <td>0</td>\n",
       "    </tr>\n",
       "  </tbody>\n",
       "</table>\n",
       "</div>"
      ],
      "text/plain": [
       "    SAT  Attendance\n",
       "0  1700           1\n",
       "1  1800           0"
      ]
     },
     "execution_count": 20,
     "metadata": {},
     "output_type": "execute_result"
    }
   ],
   "source": [
    "new_data"
   ]
  },
  {
   "cell_type": "code",
   "execution_count": 21,
   "metadata": {},
   "outputs": [
    {
     "data": {
      "text/plain": [
       "array([250.70391216, 265.13773543])"
      ]
     },
     "execution_count": 21,
     "metadata": {},
     "output_type": "execute_result"
    }
   ],
   "source": [
    "reg.predict(new_data)"
   ]
  },
  {
   "cell_type": "code",
   "execution_count": 22,
   "metadata": {},
   "outputs": [
    {
     "data": {
      "text/plain": [
       "array([[-1.39811928,  1.07417231],\n",
       "       [-0.43571643, -0.93094934]])"
      ]
     },
     "execution_count": 22,
     "metadata": {},
     "output_type": "execute_result"
    }
   ],
   "source": [
    "new_data_scaled = scaler.transform(new_data)\n",
    "new_data_scaled"
   ]
  },
  {
   "cell_type": "code",
   "execution_count": 23,
   "metadata": {},
   "outputs": [
    {
     "data": {
      "text/plain": [
       "array([3.24615721, 3.16349328])"
      ]
     },
     "execution_count": 23,
     "metadata": {},
     "output_type": "execute_result"
    }
   ],
   "source": [
    "reg.predict(new_data_scaled)"
   ]
  },
  {
   "cell_type": "code",
   "execution_count": null,
   "metadata": {},
   "outputs": [],
   "source": []
  },
  {
   "cell_type": "code",
   "execution_count": null,
   "metadata": {},
   "outputs": [],
   "source": []
  }
 ],
 "metadata": {
  "kernelspec": {
   "display_name": "Python 3",
   "language": "python",
   "name": "python3"
  },
  "language_info": {
   "codemirror_mode": {
    "name": "ipython",
    "version": 3
   },
   "file_extension": ".py",
   "mimetype": "text/x-python",
   "name": "python",
   "nbconvert_exporter": "python",
   "pygments_lexer": "ipython3",
   "version": "3.7.4"
  }
 },
 "nbformat": 4,
 "nbformat_minor": 2
}
